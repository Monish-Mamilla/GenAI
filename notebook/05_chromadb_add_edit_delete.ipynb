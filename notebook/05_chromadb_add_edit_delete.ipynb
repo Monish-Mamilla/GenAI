{
 "cells": [
  {
   "cell_type": "code",
   "execution_count": 1,
   "id": "9a7986d2",
   "metadata": {},
   "outputs": [],
   "source": [
    "import chromadb \n",
    "client = chromadb.Client()\n"
   ]
  },
  {
   "cell_type": "code",
   "execution_count": 2,
   "id": "94fa9682",
   "metadata": {},
   "outputs": [],
   "source": [
    "from datetime import datetime\n",
    "\n",
    "collection = client.create_collection(\n",
    "    name='reviews',\n",
    "    metadata={\n",
    "        \"description\": \"Product reviews\",\n",
    "        \"created\":str(datetime.now())\n",
    "    }\n",
    ")"
   ]
  },
  {
   "cell_type": "code",
   "execution_count": 3,
   "id": "ccf1cb14",
   "metadata": {},
   "outputs": [],
   "source": [
    "# 1. Add Initial Customer Feedback\n",
    "collection.add(\n",
    "    documents=[\n",
    "        \"The delivery was fast and the product quality is excellent!\",\n",
    "        \"I was not able to increase TV's brightness so I returned it back\",\n",
    "        \"The shoes I ordered were too small. Sizing is inaccurate.\",\n",
    "        \"Great customer support. Resolved my issue in minutes.\"\n",
    "    ],\n",
    "    ids=[\"r1\", \"r2\", \"r3\", \"r4\"],\n",
    "    metadatas=[\n",
    "        {\"product_category\": \"electronics\", \"rating\": 5},\n",
    "        {\"product_category\": \"electronics\", \"rating\": 2},\n",
    "        {\"product_category\": \"apparel\", \"rating\": 3},\n",
    "        {\"product_category\": \"services\", \"rating\": 4}\n",
    "    ]\n",
    ")"
   ]
  },
  {
   "cell_type": "code",
   "execution_count": 4,
   "id": "6c052781",
   "metadata": {},
   "outputs": [
    {
     "data": {
      "text/plain": [
       "4"
      ]
     },
     "execution_count": 4,
     "metadata": {},
     "output_type": "execute_result"
    }
   ],
   "source": [
    "collection.count()"
   ]
  },
  {
   "cell_type": "code",
   "execution_count": 6,
   "id": "691cca80",
   "metadata": {},
   "outputs": [
    {
     "data": {
      "text/plain": [
       "{'ids': [['r1', 'r2']],\n",
       " 'embeddings': None,\n",
       " 'documents': [['The delivery was fast and the product quality is excellent!',\n",
       "   \"I was not able to increase TV's brightness so I returned it back\"]],\n",
       " 'uris': None,\n",
       " 'included': ['metadatas', 'documents', 'distances'],\n",
       " 'data': None,\n",
       " 'metadatas': [[{'product_category': 'electronics', 'rating': 5},\n",
       "   {'rating': 2, 'product_category': 'electronics'}]],\n",
       " 'distances': [[0.8920919299125671, 2.0018959045410156]]}"
      ]
     },
     "execution_count": 6,
     "metadata": {},
     "output_type": "execute_result"
    }
   ],
   "source": [
    "collection.query(\n",
    "    query_texts=[\"fast shipping\"],\n",
    "    n_results=2,\n",
    "    where={\"product_category\": \"electronics\"}\n",
    ")"
   ]
  },
  {
   "cell_type": "code",
   "execution_count": 8,
   "id": "9a9bd1ee",
   "metadata": {},
   "outputs": [],
   "source": [
    "collection.update(documents=[\n",
    "        \"The shoes I ordered were too small. Sizing is inaccurate.\",\n",
    "       \n",
    "    ],\n",
    "    ids=[\"r3\"],\n",
    "    metadatas=[\n",
    "       \n",
    "        {\"product_category\": \"apparel\", \"rating\": 5},\n",
    "       \n",
    "    ]\n",
    "    )"
   ]
  },
  {
   "cell_type": "code",
   "execution_count": 9,
   "id": "3734a637",
   "metadata": {},
   "outputs": [
    {
     "data": {
      "text/plain": [
       "{'ids': ['r3'],\n",
       " 'embeddings': None,\n",
       " 'documents': ['The shoes I ordered were too small. Sizing is inaccurate.'],\n",
       " 'uris': None,\n",
       " 'included': ['metadatas', 'documents'],\n",
       " 'data': None,\n",
       " 'metadatas': [{'rating': 5, 'product_category': 'apparel'}]}"
      ]
     },
     "execution_count": 9,
     "metadata": {},
     "output_type": "execute_result"
    }
   ],
   "source": [
    "collection.get(ids=[\"r3\"])"
   ]
  },
  {
   "cell_type": "code",
   "execution_count": 10,
   "id": "29e7e816",
   "metadata": {},
   "outputs": [],
   "source": [
    "collection.delete(ids=[\"r1\"])"
   ]
  },
  {
   "cell_type": "code",
   "execution_count": 11,
   "id": "1ab51e2f",
   "metadata": {},
   "outputs": [
    {
     "data": {
      "text/plain": [
       "{'ids': ['r2', 'r3', 'r4'],\n",
       " 'embeddings': array([[ 0.07655202, -0.03120009, -0.02235122, ...,  0.00834923,\n",
       "          0.01038244, -0.00836817],\n",
       "        [ 0.01316785,  0.04316625,  0.08494312, ..., -0.0639236 ,\n",
       "         -0.11793303, -0.00748245],\n",
       "        [-0.01418132, -0.00990828,  0.02939945, ...,  0.02678236,\n",
       "         -0.08970495,  0.03805256]]),\n",
       " 'documents': [\"I was not able to increase TV's brightness so I returned it back\",\n",
       "  'The shoes I ordered were too small. Sizing is inaccurate.',\n",
       "  'Great customer support. Resolved my issue in minutes.'],\n",
       " 'uris': None,\n",
       " 'included': ['metadatas', 'documents', 'embeddings'],\n",
       " 'data': None,\n",
       " 'metadatas': [{'product_category': 'electronics', 'rating': 2},\n",
       "  {'rating': 5, 'product_category': 'apparel'},\n",
       "  {'rating': 4, 'product_category': 'services'}]}"
      ]
     },
     "execution_count": 11,
     "metadata": {},
     "output_type": "execute_result"
    }
   ],
   "source": [
    "collection.peek()"
   ]
  },
  {
   "cell_type": "markdown",
   "id": "fb47871b",
   "metadata": {},
   "source": [
    "#### $in equivalent to in condtion in the sql"
   ]
  },
  {
   "cell_type": "code",
   "execution_count": 12,
   "id": "11e63958",
   "metadata": {},
   "outputs": [
    {
     "data": {
      "text/plain": [
       "{'ids': [['r2']],\n",
       " 'embeddings': None,\n",
       " 'documents': [[\"I was not able to increase TV's brightness so I returned it back\"]],\n",
       " 'uris': None,\n",
       " 'included': ['metadatas', 'documents', 'distances'],\n",
       " 'data': None,\n",
       " 'metadatas': [[{'product_category': 'electronics', 'rating': 2}]],\n",
       " 'distances': [[2.0018959045410156]]}"
      ]
     },
     "execution_count": 12,
     "metadata": {},
     "output_type": "execute_result"
    }
   ],
   "source": [
    "collection.query(\n",
    "    query_texts=[\"fast shipping\"],\n",
    "    n_results=2,\n",
    "    where={\"rating\":{ \"$in\":[1,2,3]} }\n",
    ")"
   ]
  },
  {
   "cell_type": "markdown",
   "id": "6540cc1a",
   "metadata": {},
   "source": [
    "#### $nin is equivent to not in"
   ]
  },
  {
   "cell_type": "code",
   "execution_count": 13,
   "id": "10bb449a",
   "metadata": {},
   "outputs": [
    {
     "data": {
      "text/plain": [
       "{'ids': [['r4', 'r3']],\n",
       " 'embeddings': None,\n",
       " 'documents': [['Great customer support. Resolved my issue in minutes.',\n",
       "   'The shoes I ordered were too small. Sizing is inaccurate.']],\n",
       " 'uris': None,\n",
       " 'included': ['metadatas', 'documents', 'distances'],\n",
       " 'data': None,\n",
       " 'metadatas': [[{'product_category': 'services', 'rating': 4},\n",
       "   {'rating': 5, 'product_category': 'apparel'}]],\n",
       " 'distances': [[1.7052762508392334, 1.7524372339248657]]}"
      ]
     },
     "execution_count": 13,
     "metadata": {},
     "output_type": "execute_result"
    }
   ],
   "source": [
    "collection.query(\n",
    "    query_texts=[\"fast shipping\"],\n",
    "    n_results=2,\n",
    "    where={\"rating\":{ \"$nin\":[1,2,3]} }\n",
    ")"
   ]
  },
  {
   "cell_type": "code",
   "execution_count": 14,
   "id": "0a913a99",
   "metadata": {},
   "outputs": [
    {
     "data": {
      "text/plain": [
       "{'ids': [['r4', 'r3']],\n",
       " 'embeddings': None,\n",
       " 'documents': [['Great customer support. Resolved my issue in minutes.',\n",
       "   'The shoes I ordered were too small. Sizing is inaccurate.']],\n",
       " 'uris': None,\n",
       " 'included': ['metadatas', 'documents', 'distances'],\n",
       " 'data': None,\n",
       " 'metadatas': [[{'rating': 4, 'product_category': 'services'},\n",
       "   {'product_category': 'apparel', 'rating': 5}]],\n",
       " 'distances': [[1.7052762508392334, 1.7524372339248657]]}"
      ]
     },
     "execution_count": 14,
     "metadata": {},
     "output_type": "execute_result"
    }
   ],
   "source": [
    "collection.query(\n",
    "    query_texts=[\"fast shipping\"],\n",
    "    n_results=2,\n",
    "    where={\"rating\":{ \"$gt\":3} }\n",
    ")"
   ]
  },
  {
   "cell_type": "code",
   "execution_count": 17,
   "id": "345da325",
   "metadata": {},
   "outputs": [
    {
     "data": {
      "text/plain": [
       "{'ids': [['r4']],\n",
       " 'embeddings': None,\n",
       " 'documents': [['Great customer support. Resolved my issue in minutes.']],\n",
       " 'uris': None,\n",
       " 'included': ['metadatas', 'documents', 'distances'],\n",
       " 'data': None,\n",
       " 'metadatas': [[{'rating': 4, 'product_category': 'services'}]],\n",
       " 'distances': [[1.7052762508392334]]}"
      ]
     },
     "execution_count": 17,
     "metadata": {},
     "output_type": "execute_result"
    }
   ],
   "source": [
    "collection.query(\n",
    "    query_texts=[\"fast shipping\"],\n",
    "    n_results=2,\n",
    "    where_document={\"$contains\":\"customer\" }\n",
    ")"
   ]
  }
 ],
 "metadata": {
  "kernelspec": {
   "display_name": ".venv",
   "language": "python",
   "name": "python3"
  },
  "language_info": {
   "codemirror_mode": {
    "name": "ipython",
    "version": 3
   },
   "file_extension": ".py",
   "mimetype": "text/x-python",
   "name": "python",
   "nbconvert_exporter": "python",
   "pygments_lexer": "ipython3",
   "version": "3.11.9"
  }
 },
 "nbformat": 4,
 "nbformat_minor": 5
}
