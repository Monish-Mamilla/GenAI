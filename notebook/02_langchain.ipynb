{
 "cells": [
  {
   "cell_type": "code",
   "execution_count": 2,
   "id": "9a7986d2",
   "metadata": {},
   "outputs": [],
   "source": [
    "from langchain_ollama import ChatOllama\n",
    "from langchain_core.prompts import PromptTemplate\n",
    "from langchain_core.output_parsers import JsonOutputParser\n"
   ]
  },
  {
   "cell_type": "code",
   "execution_count": 3,
   "id": "21beafd4",
   "metadata": {},
   "outputs": [],
   "source": [
    "llm = ChatOllama(model=\"llama3.2:1b\")"
   ]
  },
  {
   "cell_type": "code",
   "execution_count": 4,
   "id": "8f3d2670",
   "metadata": {},
   "outputs": [],
   "source": [
    "prompt = '''\n",
    "\n",
    "From the below news article, extract revenue and eps in JSON format containing the\n",
    "following keys: 'revenue_actual', 'revenue_expected', 'eps_actual', 'eps_expected'. \n",
    "\n",
    "Each value should have a unit such as million or billion.\n",
    "\n",
    "Only return the valid JSON. No preamble.\n",
    "\n",
    "Article\n",
    "--------\n",
    "{article}\n",
    "\n",
    "'''"
   ]
  },
  {
   "cell_type": "code",
   "execution_count": 5,
   "id": "1967e069",
   "metadata": {},
   "outputs": [
    {
     "data": {
      "text/plain": [
       "PromptTemplate(input_variables=['article'], template=\"\\n\\nFrom the below news article, extract revenue and eps in JSON format containing the\\nfollowing keys: 'revenue_actual', 'revenue_expected', 'eps_actual', 'eps_expected'. \\n\\nEach value should have a unit such as million or billion.\\n\\nOnly return the valid JSON. No preamble.\\n\\nArticle\\n--------\\n{article}\\n\\n\")"
      ]
     },
     "execution_count": 5,
     "metadata": {},
     "output_type": "execute_result"
    }
   ],
   "source": [
    "pt = PromptTemplate.from_template(prompt)\n",
    "pt"
   ]
  },
  {
   "cell_type": "code",
   "execution_count": 6,
   "id": "de5899bd",
   "metadata": {},
   "outputs": [],
   "source": [
    "\n",
    "chain = pt | llm"
   ]
  },
  {
   "cell_type": "code",
   "execution_count": 8,
   "id": "c75594e0",
   "metadata": {},
   "outputs": [
    {
     "name": "stdout",
     "output_type": "stream",
     "text": [
      "{\n",
      "  \"revenue_actual\": \"$25.18B\",\n",
      "  \"revenue_expected\": \"$25.37B\",\n",
      "  \"eps_actual\": \"0.72\",\n",
      "  \"eps_expected\": \"0.58\"\n",
      "}\n"
     ]
    }
   ],
   "source": [
    "article_text = '''\n",
    "Here’s what the company reported compared with what Wall Street was expecting, based on a survey of analysts by LSEG:\n",
    "\n",
    "Earnings per share: 72 cents, adjusted vs. 58 cents expected\n",
    "Revenue: $25.18 billion vs. $25.37 billion expected\n",
    "'''\n",
    "response = chain.invoke({'article': article_text})\n",
    "print(response.content)"
   ]
  },
  {
   "cell_type": "code",
   "execution_count": 9,
   "id": "80f9b8b6",
   "metadata": {},
   "outputs": [
    {
     "data": {
      "text/plain": [
       "{'revenue_actual': '$25.18B',\n",
       " 'revenue_expected': '$25.37B',\n",
       " 'eps_actual': '0.72',\n",
       " 'eps_expected': '0.58'}"
      ]
     },
     "execution_count": 9,
     "metadata": {},
     "output_type": "execute_result"
    }
   ],
   "source": [
    "parser = JsonOutputParser()\n",
    "output_json = parser.parse(response.content)\n",
    "output_json"
   ]
  },
  {
   "cell_type": "code",
   "execution_count": 10,
   "id": "aa4ec7ee",
   "metadata": {},
   "outputs": [
    {
     "data": {
      "text/plain": [
       "'$25.18B'"
      ]
     },
     "execution_count": 10,
     "metadata": {},
     "output_type": "execute_result"
    }
   ],
   "source": [
    "output_json['revenue_actual']"
   ]
  },
  {
   "cell_type": "code",
   "execution_count": 12,
   "id": "524bd0b8",
   "metadata": {},
   "outputs": [
    {
     "name": "stdout",
     "output_type": "stream",
     "text": [
      "{\n",
      "  \"revenue_actual\": 94.93,\n",
      "  \"revenue_expected\": 94.58,\n",
      "  \"eps_actual\": 1.64,\n",
      "  \"eps_expected\": 1.60\n",
      "}\n"
     ]
    }
   ],
   "source": [
    "article_text = '''\n",
    "Here’s how the iPhone maker did versus LSEG consensus estimates for the quarter ending Sept. 28:  \n",
    "\n",
    "Earnings per share: $1.64, adjusted, versus $1.60 estimated \n",
    "Revenue: $94.93 billion vs. $94.58 billion estimated \n",
    "'''\n",
    "response = chain.invoke({'article': article_text})\n",
    "print(response.content)"
   ]
  },
  {
   "cell_type": "code",
   "execution_count": 13,
   "id": "0d2a7837",
   "metadata": {},
   "outputs": [
    {
     "data": {
      "text/plain": [
       "{'revenue_actual': 94.93,\n",
       " 'revenue_expected': 94.58,\n",
       " 'eps_actual': 1.64,\n",
       " 'eps_expected': 1.6}"
      ]
     },
     "execution_count": 13,
     "metadata": {},
     "output_type": "execute_result"
    }
   ],
   "source": [
    "parser = JsonOutputParser()\n",
    "output_json = parser.parse(response.content)\n",
    "output_json"
   ]
  }
 ],
 "metadata": {
  "kernelspec": {
   "display_name": ".venv",
   "language": "python",
   "name": "python3"
  },
  "language_info": {
   "codemirror_mode": {
    "name": "ipython",
    "version": 3
   },
   "file_extension": ".py",
   "mimetype": "text/x-python",
   "name": "python",
   "nbconvert_exporter": "python",
   "pygments_lexer": "ipython3",
   "version": "3.11.9"
  }
 },
 "nbformat": 4,
 "nbformat_minor": 5
}
