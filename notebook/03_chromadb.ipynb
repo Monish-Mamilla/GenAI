{
 "cells": [
  {
   "cell_type": "code",
   "execution_count": 19,
   "id": "9a7986d2",
   "metadata": {},
   "outputs": [],
   "source": [
    "import chromadb \n"
   ]
  },
  {
   "cell_type": "code",
   "execution_count": 20,
   "id": "3071f50c",
   "metadata": {},
   "outputs": [],
   "source": [
    "chroma_client = chromadb.Client()"
   ]
  },
  {
   "cell_type": "code",
   "execution_count": 22,
   "id": "3005e301",
   "metadata": {},
   "outputs": [],
   "source": [
    "#chroma_client.delete_collection(\"news\")"
   ]
  },
  {
   "cell_type": "code",
   "execution_count": 23,
   "id": "65050737",
   "metadata": {},
   "outputs": [],
   "source": [
    "collection = chroma_client.get_or_create_collection(name=\"news\")"
   ]
  },
  {
   "cell_type": "code",
   "execution_count": 24,
   "id": "ec59b806",
   "metadata": {},
   "outputs": [],
   "source": [
    "collection.add(\n",
    "    ids=[\"id1\", \"id2\"],\n",
    "    documents=[\n",
    "        \"This is a document about pineapple\",\n",
    "        \"This is a document about oranges\"\n",
    "    ]\n",
    ")\n"
   ]
  },
  {
   "cell_type": "code",
   "execution_count": 25,
   "id": "9f19c583",
   "metadata": {},
   "outputs": [],
   "source": [
    "from pprint import pprint"
   ]
  },
  {
   "cell_type": "code",
   "execution_count": 26,
   "id": "30816b56",
   "metadata": {},
   "outputs": [
    {
     "name": "stdout",
     "output_type": "stream",
     "text": [
      "{'data': None,\n",
      " 'distances': [[1.0404008626937866, 1.2430801391601562]],\n",
      " 'documents': [['This is a document about pineapple',\n",
      "                'This is a document about oranges']],\n",
      " 'embeddings': None,\n",
      " 'ids': [['id1', 'id2']],\n",
      " 'included': ['metadatas', 'documents', 'distances'],\n",
      " 'metadatas': [[None, None]],\n",
      " 'uris': None}\n"
     ]
    }
   ],
   "source": [
    "results = collection.query(\n",
    "    query_texts=[\"This is a query document about hawaii\"],\n",
    "    n_results=2\n",
    ")\n",
    "pprint(results)"
   ]
  },
  {
   "cell_type": "code",
   "execution_count": 27,
   "id": "2359c6e0",
   "metadata": {},
   "outputs": [],
   "source": [
    "collection.upsert(\n",
    "    documents=[\n",
    "        \"Apple reported its quarterly earnings today.\",\n",
    "        \"Apple has a lot of vitamin A\"\n",
    "    ],\n",
    "    ids=[\"id3\",\"id4\"]\n",
    ")"
   ]
  },
  {
   "cell_type": "code",
   "execution_count": 28,
   "id": "17c28a16",
   "metadata": {},
   "outputs": [
    {
     "name": "stdout",
     "output_type": "stream",
     "text": [
      "{'data': None,\n",
      " 'distances': [[1.385387897491455, 1.7049832344055176]],\n",
      " 'documents': [['Apple reported its quarterly earnings today.',\n",
      "                'Apple has a lot of vitamin A']],\n",
      " 'embeddings': None,\n",
      " 'ids': [['id3', 'id4']],\n",
      " 'included': ['metadatas', 'documents', 'distances'],\n",
      " 'metadatas': [[None, None]],\n",
      " 'uris': None}\n"
     ]
    }
   ],
   "source": [
    "results2 =collection.query(\n",
    "    query_texts=[\"New Iphone will launch in september\"],\n",
    "    n_results=2\n",
    ")\n",
    "pprint(results2)"
   ]
  }
 ],
 "metadata": {
  "kernelspec": {
   "display_name": ".venv",
   "language": "python",
   "name": "python3"
  },
  "language_info": {
   "codemirror_mode": {
    "name": "ipython",
    "version": 3
   },
   "file_extension": ".py",
   "mimetype": "text/x-python",
   "name": "python",
   "nbconvert_exporter": "python",
   "pygments_lexer": "ipython3",
   "version": "3.11.9"
  }
 },
 "nbformat": 4,
 "nbformat_minor": 5
}
