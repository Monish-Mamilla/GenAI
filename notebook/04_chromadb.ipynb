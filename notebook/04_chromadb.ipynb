{
 "cells": [
  {
   "cell_type": "code",
   "execution_count": 2,
   "id": "9a7986d2",
   "metadata": {},
   "outputs": [],
   "source": [
    "import chromadb \n"
   ]
  },
  {
   "cell_type": "markdown",
   "id": "876b0562",
   "metadata": {},
   "source": [
    "#### We are creating ChromaDB in the Persistence Mode"
   ]
  },
  {
   "cell_type": "code",
   "execution_count": 3,
   "id": "3071f50c",
   "metadata": {},
   "outputs": [],
   "source": [
    "clientp = chromadb.PersistentClient(path=\"./news_vectpr_db\")"
   ]
  },
  {
   "cell_type": "code",
   "execution_count": 5,
   "id": "140a5a7a",
   "metadata": {},
   "outputs": [],
   "source": [
    "collection = clientp.get_or_create_collection(name=\"news_v2\")"
   ]
  },
  {
   "cell_type": "code",
   "execution_count": 6,
   "id": "8a1b73f7",
   "metadata": {},
   "outputs": [],
   "source": [
    "collection.add(\n",
    "    ids=[\"id1\", \"id2\"],\n",
    "    documents=[\n",
    "        \"This is a document about pineapple\",\n",
    "        \"This is a document about oranges\"\n",
    "    ]\n",
    ")\n"
   ]
  },
  {
   "cell_type": "code",
   "execution_count": 7,
   "id": "5cb9e068",
   "metadata": {},
   "outputs": [],
   "source": [
    "from pprint import pprint"
   ]
  },
  {
   "cell_type": "code",
   "execution_count": 8,
   "id": "7328f87a",
   "metadata": {},
   "outputs": [
    {
     "name": "stdout",
     "output_type": "stream",
     "text": [
      "{'data': None,\n",
      " 'distances': [[1.0404008626937866, 1.2430801391601562]],\n",
      " 'documents': [['This is a document about pineapple',\n",
      "                'This is a document about oranges']],\n",
      " 'embeddings': None,\n",
      " 'ids': [['id1', 'id2']],\n",
      " 'included': ['metadatas', 'documents', 'distances'],\n",
      " 'metadatas': [[None, None]],\n",
      " 'uris': None}\n"
     ]
    }
   ],
   "source": [
    "results = collection.query(\n",
    "    query_texts=[\"This is a query document about hawaii\"],\n",
    "    n_results=2\n",
    ")\n",
    "pprint(results)"
   ]
  },
  {
   "cell_type": "code",
   "execution_count": 9,
   "id": "bc99d187",
   "metadata": {},
   "outputs": [
    {
     "data": {
      "text/plain": [
       "1755381162597460000"
      ]
     },
     "execution_count": 9,
     "metadata": {},
     "output_type": "execute_result"
    }
   ],
   "source": [
    "clientp.heartbeat()"
   ]
  },
  {
   "cell_type": "code",
   "execution_count": null,
   "id": "fc0c0ac3",
   "metadata": {},
   "outputs": [],
   "source": []
  }
 ],
 "metadata": {
  "kernelspec": {
   "display_name": ".venv",
   "language": "python",
   "name": "python3"
  },
  "language_info": {
   "codemirror_mode": {
    "name": "ipython",
    "version": 3
   },
   "file_extension": ".py",
   "mimetype": "text/x-python",
   "name": "python",
   "nbconvert_exporter": "python",
   "pygments_lexer": "ipython3",
   "version": "3.11.9"
  }
 },
 "nbformat": 4,
 "nbformat_minor": 5
}
