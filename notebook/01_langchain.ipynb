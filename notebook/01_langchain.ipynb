{
 "cells": [
  {
   "cell_type": "code",
   "execution_count": 35,
   "id": "d3185a93",
   "metadata": {},
   "outputs": [
    {
     "name": "stdout",
     "output_type": "stream",
     "text": [
      "The first person to walk on the moon was Neil Armstrong. He achieved this historic feat on July 20, 1969, as part of the Apollo 11 mission by NASA. Armstrong's famous words upon stepping onto the lunar surface were, \"That's one small step for [a] man, one giant leap for mankind.\" He was followed by Buzz Aldrin, while Michael Collins orbited overhead in the Command Module, Columbia. This mission marked a significant milestone in space exploration and human achievement.\n"
     ]
    }
   ],
   "source": [
    "from dotenv import load_dotenv\n",
    "from langchain_groq import ChatGroq  # Assuming you installed langchain-groq integration\n",
    "\n",
    "load_dotenv()\n",
    "\n",
    "llm = ChatGroq(model=\"mistral-saba-24b\",temperature=0.2)\n",
    "\n",
    "response = llm.invoke(\"The first person to go to moon was\")\n",
    "\n",
    "print(response.content)\n",
    "\n"
   ]
  },
  {
   "cell_type": "code",
   "execution_count": 36,
   "id": "167ef03a",
   "metadata": {},
   "outputs": [
    {
     "data": {
      "text/plain": [
       "AIMessage(content='LangChain is an open-source framework designed to facilitate the development of applications that leverage large language models (LLMs). It provides a suite of tools and libraries to help developers integrate LLMs into their projects more efficiently. Key features include:\\n\\n1. **Modular Components**: LangChain offers a variety of pre-built components, such as prompts, chains, and agents, that can be easily combined to create complex workflows.\\n2. **Flexibility**: It supports multiple language models and can be used with various APIs, making it adaptable to different use cases.\\n3. **Ease of Use**: The framework is designed to be user-friendly, with clear documentation and examples to help developers get started quickly.\\n4. **Community and Ecosystem**: Being open-source, LangChain benefits from a growing community of contributors and users, fostering continuous improvement and innovation.\\n\\nOverall, LangChain aims to simplify the process of building applications that harness the power of large language models, making it accessible to a broader range of developers.', additional_kwargs={}, response_metadata={'token_usage': {'completion_tokens': 205, 'prompt_tokens': 12, 'total_tokens': 217, 'completion_time': 0.621212121, 'prompt_time': 0.002142103, 'queue_time': 0.196503123, 'total_time': 0.623354224}, 'model_name': 'mistral-saba-24b', 'system_fingerprint': 'fp_07e680a590', 'service_tier': 'on_demand', 'finish_reason': 'stop', 'logprobs': None}, id='run--d0346c35-76f9-41b4-adb0-80ed655a175f-0', usage_metadata={'input_tokens': 12, 'output_tokens': 205, 'total_tokens': 217})"
      ]
     },
     "execution_count": 36,
     "metadata": {},
     "output_type": "execute_result"
    }
   ],
   "source": [
    "from langchain_core.prompts import PromptTemplate\n",
    "pt = PromptTemplate.from_template(\"Write few line summary on {topic} \")\n",
    "chain = pt | llm\n",
    "response = chain.invoke({'topic':'Lang Chain'})\n",
    "response\n"
   ]
  },
  {
   "cell_type": "code",
   "execution_count": 37,
   "id": "2a97122e",
   "metadata": {},
   "outputs": [
    {
     "name": "stdout",
     "output_type": "stream",
     "text": [
      "LangChain is an open-source framework designed to facilitate the development of applications that leverage large language models (LLMs). It provides a suite of tools and libraries to help developers integrate LLMs into their projects more efficiently. Key features include:\n",
      "\n",
      "1. **Modular Components**: LangChain offers a variety of pre-built components, such as prompts, chains, and agents, that can be easily combined to create complex workflows.\n",
      "2. **Flexibility**: It supports multiple language models and can be used with various APIs, making it adaptable to different use cases.\n",
      "3. **Ease of Use**: The framework is designed to be user-friendly, with clear documentation and examples to help developers get started quickly.\n",
      "4. **Community and Ecosystem**: Being open-source, LangChain benefits from a growing community of contributors and users, fostering continuous improvement and innovation.\n",
      "\n",
      "Overall, LangChain aims to simplify the process of building applications that harness the power of large language models, making it accessible to a broader range of developers.\n"
     ]
    }
   ],
   "source": [
    "print(response.content)"
   ]
  },
  {
   "cell_type": "code",
   "execution_count": null,
   "id": "0ba2166e",
   "metadata": {},
   "outputs": [],
   "source": []
  }
 ],
 "metadata": {
  "kernelspec": {
   "display_name": ".venv",
   "language": "python",
   "name": "python3"
  },
  "language_info": {
   "codemirror_mode": {
    "name": "ipython",
    "version": 3
   },
   "file_extension": ".py",
   "mimetype": "text/x-python",
   "name": "python",
   "nbconvert_exporter": "python",
   "pygments_lexer": "ipython3",
   "version": "3.10.11"
  }
 },
 "nbformat": 4,
 "nbformat_minor": 5
}
